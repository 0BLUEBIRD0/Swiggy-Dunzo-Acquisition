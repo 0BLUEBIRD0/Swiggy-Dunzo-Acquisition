{
 "cells": [
  {
   "cell_type": "code",
   "execution_count": 1,
   "id": "3ca5a7ec",
   "metadata": {},
   "outputs": [],
   "source": [
    "import pandas as pd\n",
    "import os"
   ]
  },
  {
   "cell_type": "code",
   "execution_count": 15,
   "id": "d659e9d0",
   "metadata": {},
   "outputs": [],
   "source": [
    "files = [\n",
    "    'market_size_quickcom_india.csv',\n",
    "    'ecom_overall_india.csv',\n",
    "    'competitors_quickcom_india.csv',\n",
    "    'swiggy_dunzo_financials.csv',\n",
    "    'E-commerce Customer Behavior - Sheet1.csv',  \n",
    "    'Augmented_IndiaTransactMultiFacet2024.csv', \n",
    "    'Customer_Behaviour_Survey_responses.csv',  \n",
    "    'multiTimeline.csv'  \n",
    "]"
   ]
  },
  {
   "cell_type": "code",
   "execution_count": 5,
   "id": "a001bf13",
   "metadata": {},
   "outputs": [],
   "source": [
    "os.makedirs('../data/clean', exist_ok=True)"
   ]
  },
  {
   "cell_type": "code",
   "execution_count": 16,
   "id": "d3e7b56e",
   "metadata": {},
   "outputs": [
    {
     "name": "stdout",
     "output_type": "stream",
     "text": [
      "Processing market_size_quickcom_india.csv: Initial shape (11, 4), Columns: ['year', 'gmv_usd_billion', 'cagr_pct', 'source']\n",
      "Saved cleaned file: ../data/clean/market_size_quickcom_india.csv, Final shape: (11, 4)\n",
      "Processing ecom_overall_india.csv: Initial shape (5, 3), Columns: ['year', 'gmv_usd_billion', 'cagr_pct']\n",
      "Saved cleaned file: ../data/clean/ecom_overall_india.csv, Final shape: (5, 3)\n",
      "Processing competitors_quickcom_india.csv: Initial shape (6, 6), Columns: ['company', 'fiscal_year', 'gov_cr_inr', 'revenue_cr_inr', 'market_share_pct', 'orders_per_day_lakh']\n",
      "Saved cleaned file: ../data/clean/competitors_quickcom_india.csv, Final shape: (6, 8)\n",
      "Processing swiggy_dunzo_financials.csv: Initial shape (4, 7), Columns: ['company', 'fiscal_year', 'revenue_cr_inr', 'losses_cr_inr', 'total_funding_usd_m', 'acquisition_price_est_usd_m', 'cost_structure_pct_ops']\n",
      "Saved cleaned file: ../data/clean/swiggy_dunzo_financials.csv, Final shape: (4, 8)\n",
      "Processing E-commerce Customer Behavior - Sheet1.csv: Initial shape (350, 11), Columns: ['Customer ID', 'Gender', 'Age', 'City', 'Membership Type', 'Total Spend', 'Items Purchased', 'Average Rating', 'Discount Applied', 'Days Since Last Purchase', 'Satisfaction Level']\n",
      "Saved cleaned file: ../data/clean/E-commerce Customer Behavior - Sheet1.csv, Final shape: (350, 11)\n",
      "Processing Augmented_IndiaTransactMultiFacet2024.csv: Initial shape (10267, 21), Columns: ['trans_id', 'trans_date_trans_time', 'cc_num', 'merchant', 'category', 'amt', 'first', 'last', 'gender', 'street', 'city', 'state', 'lat', 'long', 'city_pop', 'job', 'dob', 'merch_lat', 'merch_long', 'is_fraud', 'customer_id']\n",
      "Saved cleaned file: ../data/clean/Augmented_IndiaTransactMultiFacet2024.csv, Final shape: (10267, 21)\n",
      "Processing Customer_Behaviour_Survey_responses.csv: Initial shape (254, 18), Columns: ['Timestamp', 'Age ', 'Gender', 'Current State or Union Territory', 'City', 'Which Tier does your city belong to?', 'Marital Status', 'What is your financial status?', 'Say for example , a similar product with similar features is being sold at half the price by an unknown seller as compared to a branded product. Would you purchase that product? or Simply Do you prefer cost over brands?', 'What is the Product Category that you shop very frequently?', 'How much time do you spend while picking the right product to buy?', 'On a scale of 1 to 5 , how often do you shop in the selected product category monthly? ', 'What is the average money that you spend while shopping the above items in one time?', 'Which product among Electronics do you shop very often?', 'Which product among Fashion do you shop very often?', 'Which product among Clothing do you shop very often?', 'Which OTT subscriptions do you use the most?', 'Which type of Books do you buy the most?']\n",
      "Saved cleaned file: ../data/clean/Customer_Behaviour_Survey_responses.csv, Final shape: (254, 18)\n",
      "Processing multiTimeline.csv: Initial shape (71, 1), Columns: ['Category: All categories']\n",
      "Saved cleaned file: ../data/clean/multiTimeline.csv, Final shape: (71, 1)\n"
     ]
    }
   ],
   "source": [
    "for file in files:\n",
    "    file_path = f'../data/raw/{file}'\n",
    "    try:\n",
    "        if os.path.exists(file_path):\n",
    "            df = pd.read_csv(file_path)\n",
    "            print(f\"Processing {file}: Initial shape {df.shape}, Columns: {list(df.columns)}\")\n",
    "            # General cleaning: Handle dates and numeric columns\n",
    "            if 'date' in df.columns:\n",
    "                df['date'] = pd.to_datetime(df['date'], errors='coerce')\n",
    "            if 'year' in df.columns:\n",
    "                df['year'] = pd.to_numeric(df['year'], errors='coerce')\n",
    "            # Clean strings and convert to numeric where possible\n",
    "            for col in df.columns:\n",
    "                if df[col].dtype == 'object':\n",
    "                    df[col] = df[col].str.replace(',', '', regex=False).str.replace('₹', '', regex=False)\n",
    "                    df[col] = pd.to_numeric(df[col], errors='coerce')\n",
    "            # Specific cleaning for financial data\n",
    "            if 'revenue_cr_inr' in df.columns:\n",
    "                df['revenue_usd_m'] = pd.to_numeric(df['revenue_cr_inr'], errors='coerce') * 0.012\n",
    "            if 'gov_cr_inr' in df.columns:\n",
    "                df['gov_usd_m'] = pd.to_numeric(df['gov_cr_inr'], errors='coerce') * 0.012\n",
    "            # Save cleaned file with original name (or mapped name if renamed)\n",
    "            clean_path = f'../data/clean/{file}'\n",
    "            df.to_csv(clean_path, index=False)\n",
    "            print(f\"Saved cleaned file: {clean_path}, Final shape: {df.shape}\")\n",
    "        else:\n",
    "            print(f\"File not found: {file_path}\")\n",
    "    except Exception as e:\n",
    "        print(f\"Error processing {file}: {str(e)}\")"
   ]
  },
  {
   "cell_type": "code",
   "execution_count": 17,
   "id": "d938ab07",
   "metadata": {},
   "outputs": [
    {
     "name": "stdout",
     "output_type": "stream",
     "text": [
      "Data dictionary saved as CSV and Markdown!\n"
     ]
    }
   ],
   "source": [
    "try:\n",
    "    dd = pd.DataFrame({\n",
    "        'file': files,\n",
    "        'description': [\n",
    "            'Quick-commerce GMV and CAGR 2020-2030',\n",
    "            'Overall e-commerce GMV 2021-2030',\n",
    "            'Competitor GOV/revenue FY24-FY25',\n",
    "            'Swiggy/Dunzo financials FY23-FY25',\n",
    "            'Customer purchases/adoption by tier/city',\n",
    "            'Consumer spending patterns and LTV/CAC proxies',\n",
    "            'Tier-1/2 adoption rates',\n",
    "            'Search interest for quick-commerce terms 2020-2025'\n",
    "        ],\n",
    "        'columns': [list(pd.read_csv(f'../data/raw/{f}').columns) if os.path.exists(f'../data/raw/{f}') else [] for f in files],\n",
    "        'rows': [pd.read_csv(f'../data/raw/{f}').shape[0] if os.path.exists(f'../data/raw/{f}') else 0 for f in files],\n",
    "        'source': [\n",
    "            'RedSeer/IBEF/Statista',\n",
    "            'IBEF/Deloitte',\n",
    "            'Company DRHPs/HSBC',\n",
    "            'Tracxn/MCA/Entrackr',\n",
    "            'Kaggle',\n",
    "            'Kaggle',\n",
    "            'Kaggle',\n",
    "            'Google Trends'\n",
    "        ]\n",
    "    })\n",
    "    dd.to_csv('../data/data_dictionary.csv', index=False)\n",
    "    with open('../data/data_dictionary.md', 'w') as f:\n",
    "        f.write(dd.to_markdown(index=False))\n",
    "    print(\"Data dictionary saved as CSV and Markdown!\")\n",
    "except Exception as e:\n",
    "    print(f\"Error generating data dictionary: {str(e)}\")"
   ]
  },
  {
   "cell_type": "code",
   "execution_count": 18,
   "id": "43cc4163",
   "metadata": {},
   "outputs": [
    {
     "name": "stdout",
     "output_type": "stream",
     "text": [
      "Files in /data/clean/: ['Augmented_IndiaTransactMultiFacet2024.csv', 'competitors_quickcom_india.csv', 'Customer_Behaviour_Survey_responses.csv', 'E-commerce Customer Behavior - Sheet1.csv', 'ecom_overall_india.csv', 'market_size_quickcom_india.csv', 'multiTimeline.csv', 'swiggy_dunzo_financials.csv']\n"
     ]
    }
   ],
   "source": [
    "clean_files = os.listdir('../data/clean')\n",
    "print(f\"Files in /data/clean/: {clean_files}\")"
   ]
  },
  {
   "cell_type": "code",
   "execution_count": null,
   "id": "890fdc3a",
   "metadata": {},
   "outputs": [],
   "source": []
  },
  {
   "cell_type": "code",
   "execution_count": null,
   "id": "82ee7424",
   "metadata": {},
   "outputs": [],
   "source": []
  },
  {
   "cell_type": "code",
   "execution_count": null,
   "id": "64748b54",
   "metadata": {},
   "outputs": [],
   "source": []
  },
  {
   "cell_type": "code",
   "execution_count": null,
   "id": "d6fa92b5",
   "metadata": {},
   "outputs": [],
   "source": []
  },
  {
   "cell_type": "code",
   "execution_count": null,
   "id": "41497f27",
   "metadata": {},
   "outputs": [],
   "source": []
  },
  {
   "cell_type": "code",
   "execution_count": null,
   "id": "9ea0930f",
   "metadata": {},
   "outputs": [],
   "source": []
  },
  {
   "cell_type": "code",
   "execution_count": null,
   "id": "3fccd718",
   "metadata": {},
   "outputs": [],
   "source": []
  },
  {
   "cell_type": "code",
   "execution_count": null,
   "id": "94234d96",
   "metadata": {},
   "outputs": [],
   "source": []
  },
  {
   "cell_type": "code",
   "execution_count": null,
   "id": "af6b6225",
   "metadata": {},
   "outputs": [],
   "source": []
  },
  {
   "cell_type": "code",
   "execution_count": null,
   "id": "38e84f7b",
   "metadata": {},
   "outputs": [],
   "source": []
  }
 ],
 "metadata": {
  "kernelspec": {
   "display_name": "Python 3",
   "language": "python",
   "name": "python3"
  },
  "language_info": {
   "codemirror_mode": {
    "name": "ipython",
    "version": 3
   },
   "file_extension": ".py",
   "mimetype": "text/x-python",
   "name": "python",
   "nbconvert_exporter": "python",
   "pygments_lexer": "ipython3",
   "version": "3.13.3"
  }
 },
 "nbformat": 4,
 "nbformat_minor": 5
}
